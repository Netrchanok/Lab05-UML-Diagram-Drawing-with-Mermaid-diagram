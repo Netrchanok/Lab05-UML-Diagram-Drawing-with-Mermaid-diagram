{
 "cells": [
  {
   "cell_type": "markdown",
   "metadata": {},
   "source": [
    "# Lab 5.2 การวาด class diagram ด้วย mermaid diagram"
   ]
  },
  {
   "cell_type": "markdown",
   "metadata": {},
   "source": [
    "## 5.2.1 องค์ประกอบใน class diagram"
   ]
  },
  {
   "cell_type": "markdown",
   "metadata": {},
   "source": [
    "### 1. Class"
   ]
  },
  {
   "cell_type": "markdown",
   "metadata": {},
   "source": [
    "การวาด class diagram ใน mermaid มี keywords ที่สำคัญคือ\n",
    "1. ต้องระบุ __ชนิดของไดะแกรม__ ด้วยคีย์เวิร์ด `classDiagram`\n",
    "2. ต้องระบุ __ชื่อคลาส__ ด้วยคีย์เวิร์ด `class`\n",
    "\n"
   ]
  },
  {
   "cell_type": "code",
   "execution_count": 1,
   "metadata": {
    "dotnet_interactive": {
     "language": "mermaid"
    },
    "polyglot_notebook": {
     "kernelName": "mermaid"
    },
    "vscode": {
     "languageId": "polyglot-notebook"
    }
   },
   "outputs": [
    {
     "data": {
      "text/html": [
       "<div class=\"mermaidMarkdownContainer\" style=\"background-color:white\">\r\n",
       "<link rel=\"stylesheet\" href=\"https://cdnjs.cloudflare.com/ajax/libs/font-awesome/6.2.0/css/all.min.css\">\r\n",
       "<div id=\"908c17056e094a6fb46c01a69b7245ee\"></div>\r\n",
       "<script type=\"module\">\r\n",
       "\r\n",
       "            import mermaid from 'https://cdn.jsdelivr.net/npm/mermaid@10.6.1/dist/mermaid.esm.min.mjs';\r\n",
       "            let renderTarget = document.getElementById('908c17056e094a6fb46c01a69b7245ee');\r\n",
       "            try {\r\n",
       "                const {svg, bindFunctions} = await mermaid.mermaidAPI.render( \r\n",
       "                    'mermaid_908c17056e094a6fb46c01a69b7245ee', \r\n",
       "                    `classDiagram\r\n",
       "    class Animal\r\n",
       "`);\r\n",
       "                renderTarget.innerHTML = svg;\r\n",
       "                bindFunctions?.(renderTarget);\r\n",
       "            }\r\n",
       "            catch (error) {\r\n",
       "                console.log(error);\r\n",
       "            }\r\n",
       "</script>\r\n",
       "</div>\r\n"
      ]
     },
     "metadata": {},
     "output_type": "display_data"
    }
   ],
   "source": [
    "classDiagram\n",
    "    class Animal\n"
   ]
  },
  {
   "cell_type": "markdown",
   "metadata": {},
   "source": [
    "แก้ code จากด้านบนเป็น\n",
    "> ```diff\n",
    "> classDiagram\n",
    "> -    class Animal\n",
    "> +    class Vehicle\n",
    "> +    class Computer\n",
    "> ``` "
   ]
  },
  {
   "cell_type": "code",
   "execution_count": 5,
   "metadata": {
    "polyglot_notebook": {
     "kernelName": "mermaid"
    },
    "vscode": {
     "languageId": "polyglot-notebook"
    }
   },
   "outputs": [
    {
     "data": {
      "text/html": [
       "<div class=\"mermaidMarkdownContainer\" style=\"background-color:white\">\r\n",
       "<link rel=\"stylesheet\" href=\"https://cdnjs.cloudflare.com/ajax/libs/font-awesome/6.2.0/css/all.min.css\">\r\n",
       "<div id=\"7b0c468f61a944ecafc45ac7f16674fc\"></div>\r\n",
       "<script type=\"module\">\r\n",
       "\r\n",
       "            import mermaid from 'https://cdn.jsdelivr.net/npm/mermaid@10.6.1/dist/mermaid.esm.min.mjs';\r\n",
       "            let renderTarget = document.getElementById('7b0c468f61a944ecafc45ac7f16674fc');\r\n",
       "            try {\r\n",
       "                const {svg, bindFunctions} = await mermaid.mermaidAPI.render( \r\n",
       "                    'mermaid_7b0c468f61a944ecafc45ac7f16674fc', \r\n",
       "                    `classDiagram\r\n",
       "    class Vehicle\r\n",
       "    class Computer`);\r\n",
       "                renderTarget.innerHTML = svg;\r\n",
       "                bindFunctions?.(renderTarget);\r\n",
       "            }\r\n",
       "            catch (error) {\r\n",
       "                console.log(error);\r\n",
       "            }\r\n",
       "</script>\r\n",
       "</div>\r\n"
      ]
     },
     "metadata": {},
     "output_type": "display_data"
    }
   ],
   "source": [
    "classDiagram\n",
    "    class Vehicle\n",
    "    class Computer"
   ]
  },
  {
   "cell_type": "markdown",
   "metadata": {},
   "source": [
    "---"
   ]
  },
  {
   "cell_type": "markdown",
   "metadata": {},
   "source": [
    "### 2. Class label"
   ]
  },
  {
   "cell_type": "markdown",
   "metadata": {},
   "source": [
    "โดยปกติ ชื่อคลาสต้องไม่มีช่องว่างภายในชื่อ ในกรณีที่ต้องการระบุชื่อคลาสที่อ่านง่ายขึ้น เราสามารถใส่ label สำหรับคลาสได้"
   ]
  },
  {
   "cell_type": "code",
   "execution_count": 6,
   "metadata": {
    "dotnet_interactive": {
     "language": "mermaid"
    },
    "polyglot_notebook": {
     "kernelName": "mermaid"
    },
    "vscode": {
     "languageId": "polyglot-notebook"
    }
   },
   "outputs": [
    {
     "data": {
      "text/html": [
       "<div class=\"mermaidMarkdownContainer\" style=\"background-color:white\">\r\n",
       "<link rel=\"stylesheet\" href=\"https://cdnjs.cloudflare.com/ajax/libs/font-awesome/6.2.0/css/all.min.css\">\r\n",
       "<div id=\"26fb49f9e5974d4e888031d4d8b9e34e\"></div>\r\n",
       "<script type=\"module\">\r\n",
       "\r\n",
       "            import mermaid from 'https://cdn.jsdelivr.net/npm/mermaid@10.6.1/dist/mermaid.esm.min.mjs';\r\n",
       "            let renderTarget = document.getElementById('26fb49f9e5974d4e888031d4d8b9e34e');\r\n",
       "            try {\r\n",
       "                const {svg, bindFunctions} = await mermaid.mermaidAPI.render( \r\n",
       "                    'mermaid_26fb49f9e5974d4e888031d4d8b9e34e', \r\n",
       "                    `classDiagram\r\n",
       "class Animal[\"Animal with a label\"]\r\n",
       "    class Dog[\"Dog is animal\"]\r\n",
       "\r\n",
       "Animal <|-- Dog\r\n",
       "`);\r\n",
       "                renderTarget.innerHTML = svg;\r\n",
       "                bindFunctions?.(renderTarget);\r\n",
       "            }\r\n",
       "            catch (error) {\r\n",
       "                console.log(error);\r\n",
       "            }\r\n",
       "</script>\r\n",
       "</div>\r\n"
      ]
     },
     "metadata": {},
     "output_type": "display_data"
    }
   ],
   "source": [
    "classDiagram\n",
    "class Animal[\"Animal with a label\"]\n",
    "    class Dog[\"Dog is animal\"]\n",
    "\n",
    "Animal <|-- Dog\n"
   ]
  },
  {
   "cell_type": "markdown",
   "metadata": {},
   "source": [
    "### การเพิ่มสมาชิกของคลาส\n",
    "\n",
    "Mermaid  มีรูปแบบในการเขียน code เพื่อระบุประเภทของสมาชิก ดังนี้\n",
    "1. การระบุตัวแปร (variables, fields, หรือ prpoerties)  ทำได้โดยการเขียนชื่อตัวแปร และ/หรือ ชนิด\n",
    "2. การระบุ method ทำได้โดยการเขียนชื่อ method ตามด้วยวงเล็บ\n",
    "\n",
    "เช่น\n",
    "> ```mermaid\n",
    "> classDiagram\n",
    "> class BankAccount\n",
    "> BankAccount : +String owner\n",
    "> BankAccount : +BigDecimal balance\n",
    "> BankAccount : +deposit(amount)\n",
    "> BankAccount : +withdrawal(amount)\n",
    "> ```\n"
   ]
  },
  {
   "cell_type": "markdown",
   "metadata": {},
   "source": [
    "ให้นำ code ข้างบนมาใส่ลงใน code cell  แล้วรันเพื่อดูผลลัพธ์"
   ]
  },
  {
   "cell_type": "code",
   "execution_count": 7,
   "metadata": {
    "dotnet_interactive": {
     "language": "mermaid"
    },
    "polyglot_notebook": {
     "kernelName": "mermaid"
    },
    "vscode": {
     "languageId": "polyglot-notebook"
    }
   },
   "outputs": [
    {
     "data": {
      "text/html": [
       "<div class=\"mermaidMarkdownContainer\" style=\"background-color:white\">\r\n",
       "<link rel=\"stylesheet\" href=\"https://cdnjs.cloudflare.com/ajax/libs/font-awesome/6.2.0/css/all.min.css\">\r\n",
       "<div id=\"19ef3d885ddf4a069fa93e6e5f0c587d\"></div>\r\n",
       "<script type=\"module\">\r\n",
       "\r\n",
       "            import mermaid from 'https://cdn.jsdelivr.net/npm/mermaid@10.6.1/dist/mermaid.esm.min.mjs';\r\n",
       "            let renderTarget = document.getElementById('19ef3d885ddf4a069fa93e6e5f0c587d');\r\n",
       "            try {\r\n",
       "                const {svg, bindFunctions} = await mermaid.mermaidAPI.render( \r\n",
       "                    'mermaid_19ef3d885ddf4a069fa93e6e5f0c587d', \r\n",
       "                    `classDiagram\r\n",
       "class BankAccount\r\n",
       "BankAccount : +String owner\r\n",
       "BankAccount : +BigDecimal balance\r\n",
       "BankAccount : +deposit(amount)\r\n",
       "BankAccount : +withdrawal(amount)`);\r\n",
       "                renderTarget.innerHTML = svg;\r\n",
       "                bindFunctions?.(renderTarget);\r\n",
       "            }\r\n",
       "            catch (error) {\r\n",
       "                console.log(error);\r\n",
       "            }\r\n",
       "</script>\r\n",
       "</div>\r\n"
      ]
     },
     "metadata": {},
     "output_type": "display_data"
    }
   ],
   "source": [
    "classDiagram\n",
    "class BankAccount\n",
    "BankAccount : +String owner\n",
    "BankAccount : +BigDecimal balance\n",
    "BankAccount : +deposit(amount)\n",
    "BankAccount : +withdrawal(amount)"
   ]
  },
  {
   "cell_type": "markdown",
   "metadata": {},
   "source": [
    "### การระบุ return type สำหรับ method\n",
    "ในโปรแกรม oop ส่วนใหญ่จะเป็นภาษาแบบ strong type นั่นคือต้องมีการระบุชนิดสำหรับการส่งค่ากลับของ method อย่างชัดเจน\n",
    "วิธีการเขียนคือให้ใส่ชนิด return ไว้หลังวงเล็บของ method\n",
    "> ```diff\n",
    "> classDiagram\n",
    "> class BankAccount{\n",
    ">     +String owner\n",
    ">     +BigDecimal balance\n",
    ">     +deposit(amount) bool\n",
    ">     +withdrawal(amount) int\n",
    "> }\n",
    "> ```"
   ]
  },
  {
   "cell_type": "markdown",
   "metadata": {},
   "source": [
    "เขียน code ตามข้างบนแล้วรันเพื่อดูผลลัพธ์"
   ]
  },
  {
   "cell_type": "code",
   "execution_count": 8,
   "metadata": {
    "dotnet_interactive": {
     "language": "mermaid"
    },
    "polyglot_notebook": {
     "kernelName": "mermaid"
    },
    "vscode": {
     "languageId": "polyglot-notebook"
    }
   },
   "outputs": [
    {
     "data": {
      "text/html": [
       "<div class=\"mermaidMarkdownContainer\" style=\"background-color:white\">\r\n",
       "<link rel=\"stylesheet\" href=\"https://cdnjs.cloudflare.com/ajax/libs/font-awesome/6.2.0/css/all.min.css\">\r\n",
       "<div id=\"928b121e62634aaeb1b6843acea19533\"></div>\r\n",
       "<script type=\"module\">\r\n",
       "\r\n",
       "            import mermaid from 'https://cdn.jsdelivr.net/npm/mermaid@10.6.1/dist/mermaid.esm.min.mjs';\r\n",
       "            let renderTarget = document.getElementById('928b121e62634aaeb1b6843acea19533');\r\n",
       "            try {\r\n",
       "                const {svg, bindFunctions} = await mermaid.mermaidAPI.render( \r\n",
       "                    'mermaid_928b121e62634aaeb1b6843acea19533', \r\n",
       "                    `classDiagram\r\n",
       "class BankAccount{\r\n",
       "    +String owner\r\n",
       "    +BigDecimal balance\r\n",
       "    +deposit(amount) bool\r\n",
       "    +withdrawal(amount) int\r\n",
       "}`);\r\n",
       "                renderTarget.innerHTML = svg;\r\n",
       "                bindFunctions?.(renderTarget);\r\n",
       "            }\r\n",
       "            catch (error) {\r\n",
       "                console.log(error);\r\n",
       "            }\r\n",
       "</script>\r\n",
       "</div>\r\n"
      ]
     },
     "metadata": {},
     "output_type": "display_data"
    }
   ],
   "source": [
    "classDiagram\n",
    "class BankAccount{\n",
    "    +String owner\n",
    "    +BigDecimal balance\n",
    "    +deposit(amount) bool\n",
    "    +withdrawal(amount) int\n",
    "}"
   ]
  },
  {
   "cell_type": "markdown",
   "metadata": {},
   "source": [
    "### การระบุ visibility"
   ]
  },
  {
   "cell_type": "markdown",
   "metadata": {},
   "source": [
    "การระบุ visibility ของสมาชิกในคลาส\n",
    "\n",
    "|สัญลักษณ์|visibility|\n",
    "|:--:|--|\n",
    "|+ |Public|\n",
    "|- |Private|\n",
    "|#| Protected|"
   ]
  },
  {
   "cell_type": "markdown",
   "metadata": {},
   "source": [
    "คลาส Person เป็นตัวอย่างของคลาสคน ที่ไม่มีใครทราบชื่อ นามสกุล และอายของคนอื่น จนกว่าเขาจะบอกว่าเขาเป็นใคร อายุเท่าไหร่\n",
    "\n",
    "ถ้าเราอยากทราบข้อมูลส่วนบุคคล ให้ถามเขา (เช่นด้วยเมธอด  TellName, TellFullName และ TellAge เป็นต้น)\n",
    "\n",
    "ทดสอบไดอะแกรมต่อไปนี้โดยการรันในช่อง code cell ด้านล่าง\n",
    "\n",
    "```diff\n",
    ">classDiagram\n",
    ">  class Person{\n",
    ">      -String name\n",
    ">      #String lastName\n",
    ">      -int age\n",
    ">      +TellName() String\n",
    ">      +TellFullName() String\n",
    ">      +TellAge() int\n",
    ">  }\n",
    "```"
   ]
  },
  {
   "cell_type": "code",
   "execution_count": 9,
   "metadata": {
    "dotnet_interactive": {
     "language": "mermaid"
    },
    "polyglot_notebook": {
     "kernelName": "mermaid"
    },
    "vscode": {
     "languageId": "polyglot-notebook"
    }
   },
   "outputs": [
    {
     "data": {
      "text/html": [
       "<div class=\"mermaidMarkdownContainer\" style=\"background-color:white\">\r\n",
       "<link rel=\"stylesheet\" href=\"https://cdnjs.cloudflare.com/ajax/libs/font-awesome/6.2.0/css/all.min.css\">\r\n",
       "<div id=\"31eed679dd5447c197c51f7de59d16b1\"></div>\r\n",
       "<script type=\"module\">\r\n",
       "\r\n",
       "            import mermaid from 'https://cdn.jsdelivr.net/npm/mermaid@10.6.1/dist/mermaid.esm.min.mjs';\r\n",
       "            let renderTarget = document.getElementById('31eed679dd5447c197c51f7de59d16b1');\r\n",
       "            try {\r\n",
       "                const {svg, bindFunctions} = await mermaid.mermaidAPI.render( \r\n",
       "                    'mermaid_31eed679dd5447c197c51f7de59d16b1', \r\n",
       "                    `classDiagram\r\n",
       "class Person{\r\n",
       "      -String name\r\n",
       "      #String lastName\r\n",
       "      -int age\r\n",
       "      +TellName() String\r\n",
       "      +TellFullName() String\r\n",
       "      +TellAge() int\r\n",
       "}`);\r\n",
       "                renderTarget.innerHTML = svg;\r\n",
       "                bindFunctions?.(renderTarget);\r\n",
       "            }\r\n",
       "            catch (error) {\r\n",
       "                console.log(error);\r\n",
       "            }\r\n",
       "</script>\r\n",
       "</div>\r\n"
      ]
     },
     "metadata": {},
     "output_type": "display_data"
    }
   ],
   "source": [
    "classDiagram\n",
    "class Person{\n",
    "      -String name\n",
    "      #String lastName\n",
    "      -int age\n",
    "      +TellName() String\n",
    "      +TellFullName() String\n",
    "      +TellAge() int\n",
    "}"
   ]
  },
  {
   "cell_type": "markdown",
   "metadata": {},
   "source": [
    "---"
   ]
  },
  {
   "cell_type": "markdown",
   "metadata": {},
   "source": [
    "### การกำหนดเส้นเชื่อมโยงเพื่อแสดงความสัมพันธ์ระหว่างคลาส"
   ]
  },
  {
   "cell_type": "markdown",
   "metadata": {},
   "source": [
    "\n",
    "มีรูปแบบการเขียนคือ\n",
    "\n",
    "[classA][Arrow][ClassB]"
   ]
  },
  {
   "cell_type": "markdown",
   "metadata": {},
   "source": [
    "ใน mermaid diagram มีรูปแบบลูกศรที่รองรับแตกต่างกัน 8 รูปแบบ \n",
    "\n",
    "|Type|\tDescription|\n",
    "|:---:|--------|\n",
    "|<\\|--\t|Inheritance|\n",
    "|*--\t|Composition|\n",
    "|o--\t|Aggregation|\n",
    "|-->\t|Association|\n",
    "|--\t|Link (Solid)|\n",
    "|..>\t|Dependency|\n",
    "|..\\|>\t|Realization|\n",
    "|..\t|Link (Dashed)|"
   ]
  },
  {
   "cell_type": "markdown",
   "metadata": {},
   "source": [
    "เขียน code ต่อไปนี้ลงใน code cell โดยกำหนดภาษาเป็น mermaid แล้วรันเพื่อดูผลที่ได้\n",
    "> ```diff\n",
    "> classDiagram\n",
    "> classA <|-- classB\n",
    "> classC *-- classD\n",
    "> classE o-- classF\n",
    "> classG <-- classH\n",
    "> classI -- classJ\n",
    "> classK <.. classL\n",
    "> classM <|.. classN\n",
    "> classO .. classP\n",
    "> ```\n"
   ]
  },
  {
   "cell_type": "code",
   "execution_count": 11,
   "metadata": {
    "polyglot_notebook": {
     "kernelName": "mermaid"
    },
    "vscode": {
     "languageId": "polyglot-notebook"
    }
   },
   "outputs": [
    {
     "data": {
      "text/html": [
       "<div class=\"mermaidMarkdownContainer\" style=\"background-color:white\">\r\n",
       "<link rel=\"stylesheet\" href=\"https://cdnjs.cloudflare.com/ajax/libs/font-awesome/6.2.0/css/all.min.css\">\r\n",
       "<div id=\"55aec758cb3d44b78c6a95e12b30274b\"></div>\r\n",
       "<script type=\"module\">\r\n",
       "\r\n",
       "            import mermaid from 'https://cdn.jsdelivr.net/npm/mermaid@10.6.1/dist/mermaid.esm.min.mjs';\r\n",
       "            let renderTarget = document.getElementById('55aec758cb3d44b78c6a95e12b30274b');\r\n",
       "            try {\r\n",
       "                const {svg, bindFunctions} = await mermaid.mermaidAPI.render( \r\n",
       "                    'mermaid_55aec758cb3d44b78c6a95e12b30274b', \r\n",
       "                    `classDiagram\r\n",
       "classA <|-- classB\r\n",
       "classC *-- classD\r\n",
       "classE o-- classF\r\n",
       "classG <-- classH\r\n",
       "classI -- classJ\r\n",
       "classK <.. classL\r\n",
       "classM <|.. classN\r\n",
       "classO .. classP`);\r\n",
       "                renderTarget.innerHTML = svg;\r\n",
       "                bindFunctions?.(renderTarget);\r\n",
       "            }\r\n",
       "            catch (error) {\r\n",
       "                console.log(error);\r\n",
       "            }\r\n",
       "</script>\r\n",
       "</div>\r\n"
      ]
     },
     "metadata": {},
     "output_type": "display_data"
    }
   ],
   "source": [
    "classDiagram\n",
    "classA <|-- classB\n",
    "classC *-- classD\n",
    "classE o-- classF\n",
    "classG <-- classH\n",
    "classI -- classJ\n",
    "classK <.. classL\n",
    "classM <|.. classN\n",
    "classO .. classP"
   ]
  },
  {
   "cell_type": "markdown",
   "metadata": {},
   "source": [
    "เราสามารถกำหนดชื่อให้กับลูกศรได้\n",
    "\n"
   ]
  },
  {
   "cell_type": "markdown",
   "metadata": {},
   "source": [
    "เขียน code ต่อไปนี้ลงใน code cell โดยกำหนดภาษาเป็น mermaid แล้วรันเพื่อดูผลที่ได้\n",
    "> ```diff\n",
    "> classDiagram\n",
    "> classA --|> classB : Inheritance\n",
    "> classC --* classD : Composition\n",
    "> classE --o classF : Aggregation\n",
    "> classG --> classH : Association\n",
    "> classI -- classJ : Link(Solid)\n",
    "> classK ..> classL : Dependency\n",
    "> classM ..|> classN : Realization\n",
    "> classO .. classP : Link(Dashed)\n",
    "> ```"
   ]
  },
  {
   "cell_type": "code",
   "execution_count": 13,
   "metadata": {
    "polyglot_notebook": {
     "kernelName": "mermaid"
    },
    "vscode": {
     "languageId": "polyglot-notebook"
    }
   },
   "outputs": [
    {
     "data": {
      "text/html": [
       "<div class=\"mermaidMarkdownContainer\" style=\"background-color:white\">\r\n",
       "<link rel=\"stylesheet\" href=\"https://cdnjs.cloudflare.com/ajax/libs/font-awesome/6.2.0/css/all.min.css\">\r\n",
       "<div id=\"4c59c2ea72444c34962f6f08e493e265\"></div>\r\n",
       "<script type=\"module\">\r\n",
       "\r\n",
       "            import mermaid from 'https://cdn.jsdelivr.net/npm/mermaid@10.6.1/dist/mermaid.esm.min.mjs';\r\n",
       "            let renderTarget = document.getElementById('4c59c2ea72444c34962f6f08e493e265');\r\n",
       "            try {\r\n",
       "                const {svg, bindFunctions} = await mermaid.mermaidAPI.render( \r\n",
       "                    'mermaid_4c59c2ea72444c34962f6f08e493e265', \r\n",
       "                    `classDiagram\r\n",
       "classA --|> classB : Inheritance\r\n",
       "classC --* classD : Composition\r\n",
       "classE --o classF : Aggregation\r\n",
       "classG --> classH : Association\r\n",
       "classI -- classJ : Link(Solid)\r\n",
       "classK ..> classL : Dependency\r\n",
       "classM ..|> classN : Realization\r\n",
       "classO .. classP : Link(Dashed)`);\r\n",
       "                renderTarget.innerHTML = svg;\r\n",
       "                bindFunctions?.(renderTarget);\r\n",
       "            }\r\n",
       "            catch (error) {\r\n",
       "                console.log(error);\r\n",
       "            }\r\n",
       "</script>\r\n",
       "</div>\r\n"
      ]
     },
     "metadata": {},
     "output_type": "display_data"
    }
   ],
   "source": [
    "classDiagram\n",
    "classA --|> classB : Inheritance\n",
    "classC --* classD : Composition\n",
    "classE --o classF : Aggregation\n",
    "classG --> classH : Association\n",
    "classI -- classJ : Link(Solid)\n",
    "classK ..> classL : Dependency\n",
    "classM ..|> classN : Realization\n",
    "classO .. classP : Link(Dashed)"
   ]
  },
  {
   "cell_type": "markdown",
   "metadata": {},
   "source": [
    "---"
   ]
  },
  {
   "cell_type": "markdown",
   "metadata": {},
   "source": [
    "### Cardinality / Multiplicity on relations"
   ]
  },
  {
   "cell_type": "markdown",
   "metadata": {},
   "source": [
    "รูปแบบต่างๆ ของ Cardinality\n",
    "\n",
    "|Symbol|Description|\n",
    "|:----:|----|\n",
    "|1 |Only 1|\n",
    "|0..1 |Zero or One|\n",
    "|1..* |One or more|\n",
    "|* |Many|\n",
    "|n |n (where n>1)|\n",
    "|0..n |zero to n (where n>1)|\n",
    "|1..n |one to n (where n>1)|"
   ]
  },
  {
   "cell_type": "markdown",
   "metadata": {},
   "source": [
    "วิธีการระบุ cardilanity\n",
    "\n",
    "`[classA] \"cardinality1\" [Arrow] \"cardinality2\" [ClassB]:LabelText`"
   ]
  },
  {
   "cell_type": "markdown",
   "metadata": {},
   "source": [
    "เขียน code ต่อไปนี้ลงใน mermaid code cell แล้วรันเพื่อดูผลลัพธ์\n",
    ">```diff\n",
    ">classDiagram\n",
    ">    Customer \"1\" --> \"*\" Ticket \n",
    ">    Student \"1\" --> \"1..*\" Course \n",
    ">    Galaxy --> \"many\" Star\n",
    ">``` "
   ]
  },
  {
   "cell_type": "code",
   "execution_count": 14,
   "metadata": {
    "dotnet_interactive": {
     "language": "mermaid"
    },
    "polyglot_notebook": {
     "kernelName": "mermaid"
    },
    "vscode": {
     "languageId": "polyglot-notebook"
    }
   },
   "outputs": [
    {
     "data": {
      "text/html": [
       "<div class=\"mermaidMarkdownContainer\" style=\"background-color:white\">\r\n",
       "<link rel=\"stylesheet\" href=\"https://cdnjs.cloudflare.com/ajax/libs/font-awesome/6.2.0/css/all.min.css\">\r\n",
       "<div id=\"e824e047ebdd4246910c6aa94786a136\"></div>\r\n",
       "<script type=\"module\">\r\n",
       "\r\n",
       "            import mermaid from 'https://cdn.jsdelivr.net/npm/mermaid@10.6.1/dist/mermaid.esm.min.mjs';\r\n",
       "            let renderTarget = document.getElementById('e824e047ebdd4246910c6aa94786a136');\r\n",
       "            try {\r\n",
       "                const {svg, bindFunctions} = await mermaid.mermaidAPI.render( \r\n",
       "                    'mermaid_e824e047ebdd4246910c6aa94786a136', \r\n",
       "                    `   classDiagram\r\n",
       "   Customer \"1\" --> \"*\" Ticket \r\n",
       "   Student \"1\" --> \"1..*\" Course \r\n",
       "   Galaxy --> \"many\" Star`);\r\n",
       "                renderTarget.innerHTML = svg;\r\n",
       "                bindFunctions?.(renderTarget);\r\n",
       "            }\r\n",
       "            catch (error) {\r\n",
       "                console.log(error);\r\n",
       "            }\r\n",
       "</script>\r\n",
       "</div>\r\n"
      ]
     },
     "metadata": {},
     "output_type": "display_data"
    }
   ],
   "source": [
    "   classDiagram\n",
    "   Customer \"1\" --> \"*\" Ticket \n",
    "   Student \"1\" --> \"1..*\" Course \n",
    "   Galaxy --> \"many\" Star"
   ]
  },
  {
   "cell_type": "markdown",
   "metadata": {},
   "source": [
    "ปรับปรุง code ด้านบน แล้วรันเพื่อดูผลลัพธ์\n",
    ">```diff\n",
    ">classDiagram\n",
    ">-    Customer \"1\" --> \"*\" Ticket \n",
    ">+    Customer \"1\" --> \"*\" Ticket : Buy\n",
    ">-    Student \"1\" --> \"1..*\" Course \n",
    ">+    Student \"1\" --> \"1..*\" Course : Register\n",
    ">-    Galaxy --> \"many\" Star\n",
    ">+    Galaxy --> \"many\" Star : Contains\n",
    ">```"
   ]
  },
  {
   "cell_type": "code",
   "execution_count": 15,
   "metadata": {
    "dotnet_interactive": {
     "language": "mermaid"
    },
    "polyglot_notebook": {
     "kernelName": "mermaid"
    },
    "vscode": {
     "languageId": "polyglot-notebook"
    }
   },
   "outputs": [
    {
     "data": {
      "text/html": [
       "<div class=\"mermaidMarkdownContainer\" style=\"background-color:white\">\r\n",
       "<link rel=\"stylesheet\" href=\"https://cdnjs.cloudflare.com/ajax/libs/font-awesome/6.2.0/css/all.min.css\">\r\n",
       "<div id=\"f73da927ec6b45c1829c0050deb3cfc1\"></div>\r\n",
       "<script type=\"module\">\r\n",
       "\r\n",
       "            import mermaid from 'https://cdn.jsdelivr.net/npm/mermaid@10.6.1/dist/mermaid.esm.min.mjs';\r\n",
       "            let renderTarget = document.getElementById('f73da927ec6b45c1829c0050deb3cfc1');\r\n",
       "            try {\r\n",
       "                const {svg, bindFunctions} = await mermaid.mermaidAPI.render( \r\n",
       "                    'mermaid_f73da927ec6b45c1829c0050deb3cfc1', \r\n",
       "                    `classDiagram \r\n",
       "   Customer \"1\" --> \"*\" Ticket : Buy\r\n",
       "   Student \"1\" --> \"1..*\" Course : Register\r\n",
       "   Galaxy --> \"many\" Star : Contains`);\r\n",
       "                renderTarget.innerHTML = svg;\r\n",
       "                bindFunctions?.(renderTarget);\r\n",
       "            }\r\n",
       "            catch (error) {\r\n",
       "                console.log(error);\r\n",
       "            }\r\n",
       "</script>\r\n",
       "</div>\r\n"
      ]
     },
     "metadata": {},
     "output_type": "display_data"
    }
   ],
   "source": [
    "classDiagram \n",
    "   Customer \"1\" --> \"*\" Ticket : Buy\n",
    "   Student \"1\" --> \"1..*\" Course : Register\n",
    "   Galaxy --> \"many\" Star : Contains"
   ]
  },
  {
   "cell_type": "markdown",
   "metadata": {},
   "source": [
    "## แบบฝึดหัด\n",
    "\n",
    "1. ให้ค้นหา class diagram จาก internet มา 3 ภาพ ที่วาดขึ้นโดยโปรแกรมอื่นที่ไม่ใช่ mermaid  โดยมีองค์ประกอบในไดอะแกรมไม่น้อยกว่า 5 ชิ้นส่วน  \n",
    "2. เขียน code ในภาษา mermaid diagram เพื่อวาดตามไดอะแกรมนั้น\n",
    "3. นำภาพที่ได้เทียบกับต้นฉบับ โดย capture เป็น png แล้วแนบลิ้งค์มาในไฟล์ ipynb นี้ (อย่าวางภาพลงไปโดยการ copy & paste เนื่องจากจะทำให้ไฟล์ ipynb มีขนาดที่โตเกินไป)\n"
   ]
  }
 ],
 "metadata": {
  "kernelspec": {
   "display_name": ".NET (C#)",
   "language": "C#",
   "name": ".net-csharp"
  },
  "language_info": {
   "codemirror_mode": {
    "name": "ipython",
    "version": 3
   },
   "file_extension": ".py",
   "mimetype": "text/x-python",
   "name": "python",
   "nbconvert_exporter": "python",
   "pygments_lexer": "ipython3",
   "version": "3.13.1"
  },
  "polyglot_notebook": {
   "kernelInfo": {
    "defaultKernelName": "mermaid",
    "items": [
     {
      "aliases": [],
      "languageName": "mermaid",
      "name": "mermaid"
     }
    ]
   }
  }
 },
 "nbformat": 4,
 "nbformat_minor": 2
}
